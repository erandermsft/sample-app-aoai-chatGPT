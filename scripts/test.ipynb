{
 "cells": [
  {
   "cell_type": "code",
   "execution_count": 1,
   "metadata": {},
   "outputs": [
    {
     "name": "stdout",
     "output_type": "stream",
     "text": [
      "Requirement already satisfied: azure-storage-blob in c:\\users\\povelf\\appdata\\local\\miniconda3\\envs\\rv\\lib\\site-packages (12.17.0)\n",
      "Requirement already satisfied: azure-core<2.0.0,>=1.28.0 in c:\\users\\povelf\\appdata\\local\\miniconda3\\envs\\rv\\lib\\site-packages (from azure-storage-blob) (1.29.5)\n",
      "Requirement already satisfied: cryptography>=2.1.4 in c:\\users\\povelf\\appdata\\local\\miniconda3\\envs\\rv\\lib\\site-packages (from azure-storage-blob) (41.0.7)\n",
      "Requirement already satisfied: typing-extensions>=4.3.0 in c:\\users\\povelf\\appdata\\local\\miniconda3\\envs\\rv\\lib\\site-packages (from azure-storage-blob) (4.8.0)\n",
      "Requirement already satisfied: isodate>=0.6.1 in c:\\users\\povelf\\appdata\\local\\miniconda3\\envs\\rv\\lib\\site-packages (from azure-storage-blob) (0.6.1)\n",
      "Requirement already satisfied: requests>=2.18.4 in c:\\users\\povelf\\appdata\\local\\miniconda3\\envs\\rv\\lib\\site-packages (from azure-core<2.0.0,>=1.28.0->azure-storage-blob) (2.31.0)\n",
      "Requirement already satisfied: six>=1.11.0 in c:\\users\\povelf\\appdata\\local\\miniconda3\\envs\\rv\\lib\\site-packages (from azure-core<2.0.0,>=1.28.0->azure-storage-blob) (1.16.0)\n",
      "Requirement already satisfied: cffi>=1.12 in c:\\users\\povelf\\appdata\\local\\miniconda3\\envs\\rv\\lib\\site-packages (from cryptography>=2.1.4->azure-storage-blob) (1.16.0)\n",
      "Requirement already satisfied: pycparser in c:\\users\\povelf\\appdata\\local\\miniconda3\\envs\\rv\\lib\\site-packages (from cffi>=1.12->cryptography>=2.1.4->azure-storage-blob) (2.21)\n",
      "Requirement already satisfied: charset-normalizer<4,>=2 in c:\\users\\povelf\\appdata\\local\\miniconda3\\envs\\rv\\lib\\site-packages (from requests>=2.18.4->azure-core<2.0.0,>=1.28.0->azure-storage-blob) (3.3.2)\n",
      "Requirement already satisfied: idna<4,>=2.5 in c:\\users\\povelf\\appdata\\local\\miniconda3\\envs\\rv\\lib\\site-packages (from requests>=2.18.4->azure-core<2.0.0,>=1.28.0->azure-storage-blob) (3.6)\n",
      "Requirement already satisfied: urllib3<3,>=1.21.1 in c:\\users\\povelf\\appdata\\local\\miniconda3\\envs\\rv\\lib\\site-packages (from requests>=2.18.4->azure-core<2.0.0,>=1.28.0->azure-storage-blob) (1.26.18)\n",
      "Requirement already satisfied: certifi>=2017.4.17 in c:\\users\\povelf\\appdata\\local\\miniconda3\\envs\\rv\\lib\\site-packages (from requests>=2.18.4->azure-core<2.0.0,>=1.28.0->azure-storage-blob) (2023.11.17)\n"
     ]
    }
   ],
   "source": [
    "!pip install azure-storage-blob"
   ]
  },
  {
   "cell_type": "code",
   "execution_count": 6,
   "metadata": {},
   "outputs": [],
   "source": [
    "from azure.storage.blob import BlobServiceClient, generate_container_sas, ContainerSasPermissions\n",
    "from datetime import datetime, timedelta"
   ]
  },
  {
   "cell_type": "code",
   "execution_count": 7,
   "metadata": {},
   "outputs": [],
   "source": [
    "def generate_sas_tokens(account_name, account_key, container_names):\n",
    "    connection_string = f\"DefaultEndpointsProtocol=https;AccountName={account_name};AccountKey={account_key};EndpointSuffix=core.windows.net\"\n",
    "    blob_service_client = BlobServiceClient.from_connection_string(connection_string)\n",
    "    \n",
    "    sas_tokens = {}\n",
    "    \n",
    "    for container_name in container_names:\n",
    "        container_client = blob_service_client.get_container_client(container_name)\n",
    "        \n",
    "        permissions = ContainerSasPermissions(read=True, list=True)\n",
    "        \n",
    "        start_time = datetime.utcnow()\n",
    "        expiry_time = start_time + timedelta(days=7)\n",
    "        \n",
    "        sas_token = generate_container_sas(\n",
    "            account_name=account_name,\n",
    "            container_name=container_name,\n",
    "            account_key=account_key,\n",
    "            permission=permissions,\n",
    "            start=start_time,\n",
    "            expiry=expiry_time\n",
    "        )\n",
    "        \n",
    "        sas_tokens[container_name] = sas_token\n",
    "    \n",
    "    return sas_tokens"
   ]
  },
  {
   "cell_type": "code",
   "execution_count": 5,
   "metadata": {},
   "outputs": [
    {
     "name": "stdout",
     "output_type": "stream",
     "text": [
      "Generated SAS tokens:\n",
      "moms-test: st=2023-12-13T13%3A41%3A32Z&se=2023-12-20T13%3A41%3A32Z&sp=rl&sv=2023-01-03&sr=c&sig=/u5KdNDURlS%2BLoCfWUGq2YhoVsuHgz5MorRIjXgdHOs%3D\n",
      "agresso-test: st=2023-12-13T13%3A41%3A32Z&se=2023-12-20T13%3A41%3A32Z&sp=rl&sv=2023-01-03&sr=c&sig=YEft6ZbeAyDw99TzqtjtCqA4JW%2BNv7tT1q5iY6%2BiTjU%3D\n"
     ]
    }
   ],
   "source": [
    "account_name = \"blobstoragejd5ypzfx2l6vi\"\n",
    "account_key = \"Ek/SfR4Orf+7BrYcQapmSQ9M3ufar0kivpjCcXvPOUxbgWrM+eYC0rmsTshZH35OSNAtfqMHAxoN+AStCX4oxw==\"\n",
    "container_names = [\"moms-test\", \"agresso-test\"]\n",
    "\n",
    "sas_tokens = generate_sas_tokens(account_name, account_key, container_names)\n",
    "\n",
    "print(\"Generated SAS tokens:\")\n",
    "for container_name, sas_token in sas_tokens.items():\n",
    "    print(f\"{container_name}: {sas_token}\")\n"
   ]
  },
  {
   "cell_type": "code",
   "execution_count": null,
   "metadata": {},
   "outputs": [],
   "source": []
  }
 ],
 "metadata": {
  "kernelspec": {
   "display_name": "rv",
   "language": "python",
   "name": "python3"
  },
  "language_info": {
   "codemirror_mode": {
    "name": "ipython",
    "version": 3
   },
   "file_extension": ".py",
   "mimetype": "text/x-python",
   "name": "python",
   "nbconvert_exporter": "python",
   "pygments_lexer": "ipython3",
   "version": "3.11.4"
  }
 },
 "nbformat": 4,
 "nbformat_minor": 2
}
